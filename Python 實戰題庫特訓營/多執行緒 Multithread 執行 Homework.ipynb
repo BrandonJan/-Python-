{
 "cells": [
  {
   "cell_type": "markdown",
   "source": [
    "# [作業目標]\n",
    "\n",
    "\n",
    "1. 請將給定的爬蟲範例改用多線程改寫，比較前後時間的差異。\n",
    "\n",
    "```\n",
    "import requests\n",
    "import time\n",
    "\n",
    "urls = ['http://python.org', 'http://python.org', 'http://python.org',\n",
    "        'http://python.org', 'http://python.org']\n",
    "\n",
    "for url in urls:\n",
    "    d = requests.get(url)\n",
    "    print(d)\n",
    "```\n",
    "\n"
   ],
   "metadata": {
    "colab_type": "text",
    "id": "P6xk2_jLsvFF"
   }
  },
  {
   "cell_type": "markdown",
   "source": [
    "# 作業 "
   ],
   "metadata": {
    "colab_type": "text",
    "id": "uXGll28asvFS"
   }
  },
  {
   "cell_type": "markdown",
   "source": [
    "### 1. 請將給定的爬蟲範例改用多線程改寫，比較前後時間的差異。\r\n",
    "\r\n",
    "```\r\n",
    "import requests\r\n",
    "import time\r\n",
    "\r\n",
    "urls = ['http://python.org', 'http://python.org', 'http://python.org',\r\n",
    "        'http://python.org', 'http://python.org']\r\n",
    "\r\n",
    "for url in urls:\r\n",
    "    d = requests.get(url)\r\n",
    "    print(d)\r\n",
    "```"
   ],
   "metadata": {}
  },
  {
   "cell_type": "code",
   "execution_count": 2,
   "source": [
    "import requests\r\n",
    "import time\r\n",
    "\r\n",
    "urls = ['http://python.org', 'http://python.org', 'http://python.org',\r\n",
    "        'http://python.org', 'http://python.org']\r\n",
    "startTime = time.time()\r\n",
    "for url in urls:\r\n",
    "    d = requests.get(url)\r\n",
    "    print(d)\r\n",
    "finishTime = time.time()\r\n",
    "print(finishTime - startTime)   "
   ],
   "outputs": [
    {
     "output_type": "stream",
     "name": "stdout",
     "text": [
      "<Response [200]>\n",
      "<Response [200]>\n",
      "<Response [200]>\n",
      "<Response [200]>\n",
      "<Response [200]>\n",
      "16.018131971359253\n"
     ]
    }
   ],
   "metadata": {}
  },
  {
   "cell_type": "code",
   "execution_count": 17,
   "source": [
    "import requests\r\n",
    "import time\r\n",
    "import threading\r\n",
    "\r\n",
    "urls = ['http://python.org', 'http://python.org', 'http://python.org',\r\n",
    "        'http://python.org', 'http://python.org']\r\n",
    "\r\n",
    "def job(num,url):\r\n",
    "    print(\"Thread\",num)\r\n",
    "\r\n",
    "    d = requests.get(url)\r\n",
    "    print(d)\r\n",
    "\r\n",
    "startTime = time.time() \r\n",
    "threads = []\r\n",
    "for i, url in enumerate(urls):\r\n",
    "    threads.append(threading.Thread(target=job, args=(i,urls[i])))\r\n",
    "    threads[i].start()\r\n",
    "\r\n",
    "for i in range(len(urls)):\r\n",
    "  threads[i].join()\r\n",
    "\r\n",
    "print(\"Done.\")\r\n",
    "finishTime = time.time()\r\n",
    "print(finishTime - startTime)\r\n",
    "\r\n"
   ],
   "outputs": [
    {
     "output_type": "stream",
     "name": "stdout",
     "text": [
      "Thread 0\n",
      "Thread 1\n",
      "Thread 2\n",
      "Thread 3\n",
      "Thread 4\n",
      "<Response [200]>\n",
      "<Response [200]>\n",
      "<Response [200]>\n",
      "<Response [200]>\n",
      "<Response [200]>\n",
      "Done.\n",
      "2.8238303661346436\n"
     ]
    }
   ],
   "metadata": {}
  },
  {
   "cell_type": "code",
   "execution_count": 1,
   "source": [
    "import requests\r\n",
    "import threading\r\n",
    "import time\r\n",
    "\r\n",
    "urls = ['http://python.org', 'http://python.org', 'http://python.org',\r\n",
    "        'http://python.org', 'http://python.org']\r\n",
    "\r\n",
    "def f(url):\r\n",
    "    d = requests.get(url)\r\n",
    "    print(d)\r\n",
    "\r\n",
    "startTime = time.time()\r\n",
    "\r\n",
    "for url in urls:\r\n",
    "    t = threading.Thread( target=f, args=(url, ) )\r\n",
    "    t.start()\r\n",
    "\r\n",
    "finishTime = time.time()\r\n",
    "print(finishTime - startTime)"
   ],
   "outputs": [
    {
     "output_type": "stream",
     "name": "stdout",
     "text": [
      "0.006982326507568359\n",
      "<Response [200]>\n",
      "<Response [200]>\n",
      "<Response [200]>\n",
      "<Response [200]>\n",
      "<Response [200]>\n"
     ]
    }
   ],
   "metadata": {}
  },
  {
   "cell_type": "code",
   "execution_count": null,
   "source": [],
   "outputs": [],
   "metadata": {}
  }
 ],
 "metadata": {
  "colab": {
   "name": "Day_023_HW.ipynb",
   "provenance": []
  },
  "kernelspec": {
   "name": "python3",
   "display_name": "Python 3.6.4 64-bit ('base': conda)"
  },
  "language_info": {
   "codemirror_mode": {
    "name": "ipython",
    "version": 3
   },
   "file_extension": ".py",
   "mimetype": "text/x-python",
   "name": "python",
   "nbconvert_exporter": "python",
   "pygments_lexer": "ipython3",
   "version": "3.6.4"
  },
  "interpreter": {
   "hash": "1173d45ba291bb8103290b86d84dc8188b01e1e003afe111fd536f43d6741147"
  }
 },
 "nbformat": 4,
 "nbformat_minor": 1
}