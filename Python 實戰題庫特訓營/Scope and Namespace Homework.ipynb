{
 "cells": [
  {
   "cell_type": "markdown",
   "source": [
    "# [作業目標]\n",
    "\n",
    "\n",
    "1. [簡答題] 請問下列寫法為什麼會出錯？該如何修正？\n",
    "\n",
    "```\n",
    "# nonlocal\n",
    "\n",
    "def foo1():\n",
    "    var1 = 0\n",
    "    def foo2():\n",
    "        print(var1) \n",
    "        var1 = 1 # 修改局部變數值\n",
    "    foo2()\n",
    "\n",
    "foo1()\n",
    "\n",
    "```\n",
    "\n",
    "2. [簡答題] 請問下列程式碼分別會印出什麼結果？\n",
    "\n"
   ],
   "metadata": {
    "colab_type": "text",
    "id": "P6xk2_jLsvFF"
   }
  },
  {
   "cell_type": "markdown",
   "source": [
    "# 作業 "
   ],
   "metadata": {
    "colab_type": "text",
    "id": "uXGll28asvFS"
   }
  },
  {
   "cell_type": "markdown",
   "source": [
    "### 1. [簡答題] 請問下列寫法為什麼會出錯？該如何修正？\n",
    "\n",
    "```\n",
    "# nonlocal\n",
    "\n",
    "def foo1():\n",
    "    var1 = 0\n",
    "    def foo2():\n",
    "        print(var1) \n",
    "        var1 = 1 # 修改局部變數值\n",
    "    foo2()\n",
    "\n",
    "foo1()\n",
    "\n",
    "```"
   ],
   "metadata": {}
  },
  {
   "cell_type": "code",
   "execution_count": 6,
   "source": [
    "def foo1():\r\n",
    "    var1 = 0\r\n",
    "    def foo2():\r\n",
    "        print(var1) \r\n",
    "        var1 = 1 # 修改局部變數值\r\n",
    "    foo2()\r\n",
    "\r\n",
    "foo1() \r\n",
    "\r\n",
    "'''\r\n",
    "因為未宣告存取局部變數就修改數值\r\n",
    "'''"
   ],
   "outputs": [
    {
     "output_type": "error",
     "ename": "UnboundLocalError",
     "evalue": "local variable 'var1' referenced before assignment",
     "traceback": [
      "\u001b[0;31m----------------------------------------------------------------------\u001b[0m",
      "\u001b[0;31mUnboundLocalError\u001b[0m                    Traceback (most recent call last)",
      "\u001b[0;32m<ipython-input-6-b12cb61293e5>\u001b[0m in \u001b[0;36m<module>\u001b[0;34m()\u001b[0m\n\u001b[1;32m      6\u001b[0m     \u001b[0mfoo2\u001b[0m\u001b[0;34m(\u001b[0m\u001b[0;34m)\u001b[0m\u001b[0;34m\u001b[0m\u001b[0m\n\u001b[1;32m      7\u001b[0m \u001b[0;34m\u001b[0m\u001b[0m\n\u001b[0;32m----> 8\u001b[0;31m \u001b[0mfoo1\u001b[0m\u001b[0;34m(\u001b[0m\u001b[0;34m)\u001b[0m\u001b[0;34m\u001b[0m\u001b[0m\n\u001b[0m\u001b[1;32m      9\u001b[0m \u001b[0;34m\u001b[0m\u001b[0m\n\u001b[1;32m     10\u001b[0m '''\n",
      "\u001b[0;32m<ipython-input-6-b12cb61293e5>\u001b[0m in \u001b[0;36mfoo1\u001b[0;34m()\u001b[0m\n\u001b[1;32m      4\u001b[0m         \u001b[0mprint\u001b[0m\u001b[0;34m(\u001b[0m\u001b[0mvar1\u001b[0m\u001b[0;34m)\u001b[0m\u001b[0;34m\u001b[0m\u001b[0m\n\u001b[1;32m      5\u001b[0m         \u001b[0mvar1\u001b[0m \u001b[0;34m=\u001b[0m \u001b[0;36m1\u001b[0m \u001b[0;31m# 修改局部變數值\u001b[0m\u001b[0;34m\u001b[0m\u001b[0m\n\u001b[0;32m----> 6\u001b[0;31m     \u001b[0mfoo2\u001b[0m\u001b[0;34m(\u001b[0m\u001b[0;34m)\u001b[0m\u001b[0;34m\u001b[0m\u001b[0m\n\u001b[0m\u001b[1;32m      7\u001b[0m \u001b[0;34m\u001b[0m\u001b[0m\n\u001b[1;32m      8\u001b[0m \u001b[0mfoo1\u001b[0m\u001b[0;34m(\u001b[0m\u001b[0;34m)\u001b[0m\u001b[0;34m\u001b[0m\u001b[0m\n",
      "\u001b[0;32m<ipython-input-6-b12cb61293e5>\u001b[0m in \u001b[0;36mfoo2\u001b[0;34m()\u001b[0m\n\u001b[1;32m      2\u001b[0m     \u001b[0mvar1\u001b[0m \u001b[0;34m=\u001b[0m \u001b[0;36m0\u001b[0m\u001b[0;34m\u001b[0m\u001b[0m\n\u001b[1;32m      3\u001b[0m     \u001b[0;32mdef\u001b[0m \u001b[0mfoo2\u001b[0m\u001b[0;34m(\u001b[0m\u001b[0;34m)\u001b[0m\u001b[0;34m:\u001b[0m\u001b[0;34m\u001b[0m\u001b[0m\n\u001b[0;32m----> 4\u001b[0;31m         \u001b[0mprint\u001b[0m\u001b[0;34m(\u001b[0m\u001b[0mvar1\u001b[0m\u001b[0;34m)\u001b[0m\u001b[0;34m\u001b[0m\u001b[0m\n\u001b[0m\u001b[1;32m      5\u001b[0m         \u001b[0mvar1\u001b[0m \u001b[0;34m=\u001b[0m \u001b[0;36m1\u001b[0m \u001b[0;31m# 修改局部變數值\u001b[0m\u001b[0;34m\u001b[0m\u001b[0m\n\u001b[1;32m      6\u001b[0m     \u001b[0mfoo2\u001b[0m\u001b[0;34m(\u001b[0m\u001b[0;34m)\u001b[0m\u001b[0;34m\u001b[0m\u001b[0m\n",
      "\u001b[0;31mUnboundLocalError\u001b[0m: local variable 'var1' referenced before assignment"
     ]
    }
   ],
   "metadata": {}
  },
  {
   "cell_type": "code",
   "execution_count": 5,
   "source": [
    "def foo1():\r\n",
    "    var1 = 0\r\n",
    "    def foo2():\r\n",
    "        nonlocal var1\r\n",
    "        print(var1) \r\n",
    "        var1 = 1 # 修改局部變數值\r\n",
    "    foo2()\r\n",
    "\r\n",
    "foo1() "
   ],
   "outputs": [
    {
     "output_type": "stream",
     "name": "stdout",
     "text": [
      "0\n"
     ]
    }
   ],
   "metadata": {}
  },
  {
   "cell_type": "markdown",
   "source": [
    "### 2. [簡答題] 請問下列程式碼分別會印出什麼結果？"
   ],
   "metadata": {}
  },
  {
   "cell_type": "code",
   "execution_count": 8,
   "source": [
    "a = 'A'\r\n",
    "\r\n",
    "def f(b):\r\n",
    "    a = 'AAA'\r\n",
    "    c = 'C'\r\n",
    "    print(a)\r\n",
    "    print(b)\r\n",
    "    print(c)\r\n",
    "    return b\r\n",
    "\r\n",
    "print(a)\r\n",
    "print(f('B'))\r\n",
    "print(a)\r\n",
    "\r\n",
    "'''\r\n",
    "Your Answer\r\n",
    "'''"
   ],
   "outputs": [
    {
     "output_type": "stream",
     "name": "stdout",
     "text": [
      "A\n",
      "AAA\n",
      "B\n",
      "C\n",
      "B\n",
      "A\n"
     ]
    },
    {
     "output_type": "execute_result",
     "data": {
      "text/plain": [
       "'\\nYour Answer\\n'"
      ]
     },
     "metadata": {},
     "execution_count": 8
    }
   ],
   "metadata": {}
  },
  {
   "cell_type": "code",
   "execution_count": 10,
   "source": [
    "a = 'A'\r\n",
    "\r\n",
    "def f(b):\r\n",
    "    c = 'C'\r\n",
    "    global a\r\n",
    "    print(a)\r\n",
    "    a = 'AAA'\r\n",
    "    print(b)\r\n",
    "    print(c)\r\n",
    "    return b\r\n",
    "\r\n",
    "print(a)\r\n",
    "print(f('B'))\r\n",
    "print(a)\r\n",
    "\r\n",
    "'''\r\n",
    "在局部命名空間用global修改全局作用域變數，所以func出來後a的值在全域中被改變了\r\n",
    "'''"
   ],
   "outputs": [
    {
     "output_type": "stream",
     "name": "stdout",
     "text": [
      "A\n",
      "A\n",
      "B\n",
      "C\n",
      "B\n",
      "AAA\n"
     ]
    },
    {
     "output_type": "execute_result",
     "data": {
      "text/plain": [
       "'\\nYour Answer\\n'"
      ]
     },
     "metadata": {},
     "execution_count": 10
    }
   ],
   "metadata": {}
  }
 ],
 "metadata": {
  "colab": {
   "name": "Day_023_HW.ipynb",
   "provenance": []
  },
  "kernelspec": {
   "name": "python3",
   "display_name": "Python 3.6.4 64-bit ('base': conda)"
  },
  "language_info": {
   "codemirror_mode": {
    "name": "ipython",
    "version": 3
   },
   "file_extension": ".py",
   "mimetype": "text/x-python",
   "name": "python",
   "nbconvert_exporter": "python",
   "pygments_lexer": "ipython3",
   "version": "3.6.4"
  },
  "interpreter": {
   "hash": "1173d45ba291bb8103290b86d84dc8188b01e1e003afe111fd536f43d6741147"
  }
 },
 "nbformat": 4,
 "nbformat_minor": 1
}