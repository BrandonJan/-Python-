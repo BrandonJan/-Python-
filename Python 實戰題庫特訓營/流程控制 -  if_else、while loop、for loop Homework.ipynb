{
 "cells": [
  {
   "cell_type": "markdown",
   "source": [
    "# [作業目標]\n",
    "\n",
    "1. 有一個 List 包含 10 個元素：[1, 2, 3, 4, 5, 6, 7, 8, 9, 0]，如果調整成偶數放前面，奇數放後面的樣子？結果會像是 [2, 4, 6, 8, 0, 1, 3, 5, 7, 9]\n",
    "\n",
    "2. 在數學中，用 n! 來表示階乘，例如，4! =1×2×3×4 =24。請分別 (1) 用 for 迴圈 (2) 用 while 迴圈完成一個程式，讓使用者輸入 n，印出 n!\n",
    "\n",
    "\n",
    "\n"
   ],
   "metadata": {
    "colab_type": "text",
    "id": "P6xk2_jLsvFF"
   }
  },
  {
   "cell_type": "markdown",
   "source": [
    "# 作業 "
   ],
   "metadata": {
    "colab_type": "text",
    "id": "uXGll28asvFS"
   }
  },
  {
   "cell_type": "markdown",
   "source": [
    "### 1. 有一個 List 包含 10 個元素：[1, 2, 3, 4, 5, 6, 7, 8, 9, 0]，如果調整成偶數放前面，奇數放後面的樣子？結果會像是 [2, 4, 6, 8, 0, 1, 3, 5, 7, 9]\r\n",
    "\r\n",
    "\r\n",
    "\r\n",
    "\r\n"
   ],
   "metadata": {}
  },
  {
   "cell_type": "code",
   "execution_count": 6,
   "source": [
    "l = [1, 2, 3, 4, 5, 6, 7, 8, 9, 0]\r\n",
    "odd = []\r\n",
    "even =[]\r\n",
    "for i in l:\r\n",
    "    if i % 2 == 0:\r\n",
    "        even.append(i)\r\n",
    "    else:\r\n",
    "        odd.append(i)\r\n",
    "print(even+odd)"
   ],
   "outputs": [
    {
     "output_type": "stream",
     "name": "stdout",
     "text": [
      "[2, 4, 6, 8, 0, 1, 3, 5, 7, 9]\n"
     ]
    }
   ],
   "metadata": {
    "colab": {},
    "colab_type": "code",
    "id": "5QrYoyNWsvFS"
   }
  },
  {
   "cell_type": "markdown",
   "source": [
    "### 2. 在數學中，用 n! 來表示階乘，例如，4! =1×2×3×4 =24。請分別 (1) 用 for 迴圈 (2) 用 while 迴圈完成一個程式，讓使用者輸入 n，印出 n!\r\n",
    "\r\n"
   ],
   "metadata": {}
  },
  {
   "cell_type": "code",
   "execution_count": 8,
   "source": [
    "x = int(input('請輸入請輸入想進行階乘的數字'))\r\n",
    "ans = 1\r\n",
    "for i in range(1,x+1):\r\n",
    "    ans = ans*i\r\n",
    "print(ans)\r\n",
    "\r\n",
    "\r\n"
   ],
   "outputs": [
    {
     "output_type": "stream",
     "name": "stdout",
     "text": [
      "120\n"
     ]
    }
   ],
   "metadata": {}
  },
  {
   "cell_type": "code",
   "execution_count": 9,
   "source": [
    "y = int(input('請輸入請輸入想進行階乘的數字'))\r\n",
    "ans2 = 1\r\n",
    "i = 1\r\n",
    "while i <= y:\r\n",
    "    ans2 = ans2*i\r\n",
    "    i+=1\r\n",
    "print(ans2)"
   ],
   "outputs": [
    {
     "output_type": "stream",
     "name": "stdout",
     "text": [
      "720\n"
     ]
    }
   ],
   "metadata": {}
  }
 ],
 "metadata": {
  "colab": {
   "name": "Day_023_HW.ipynb",
   "provenance": []
  },
  "kernelspec": {
   "name": "python3",
   "display_name": "Python 3.6.4 64-bit ('base': conda)"
  },
  "language_info": {
   "codemirror_mode": {
    "name": "ipython",
    "version": 3
   },
   "file_extension": ".py",
   "mimetype": "text/x-python",
   "name": "python",
   "nbconvert_exporter": "python",
   "pygments_lexer": "ipython3",
   "version": "3.6.4"
  },
  "interpreter": {
   "hash": "1173d45ba291bb8103290b86d84dc8188b01e1e003afe111fd536f43d6741147"
  }
 },
 "nbformat": 4,
 "nbformat_minor": 1
}