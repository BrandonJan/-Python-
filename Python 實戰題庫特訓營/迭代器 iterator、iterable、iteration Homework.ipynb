{
 "cells": [
  {
   "cell_type": "markdown",
   "source": [
    "# [作業目標]\n",
    "\n",
    "\n",
    "1. 請實作一個回傳 a~n 之間的可以 Looping 的迭代物件。\n",
    "\n"
   ],
   "metadata": {
    "colab_type": "text",
    "id": "P6xk2_jLsvFF"
   }
  },
  {
   "cell_type": "markdown",
   "source": [
    "# 作業 "
   ],
   "metadata": {
    "colab_type": "text",
    "id": "uXGll28asvFS"
   }
  },
  {
   "cell_type": "markdown",
   "source": [
    "### 1. 請實作一個回傳 a~n 之間的可以 Looping 的迭代物件。"
   ],
   "metadata": {}
  },
  {
   "cell_type": "code",
   "execution_count": 14,
   "source": [
    "class even_number(object):\r\n",
    "    def __init__(self,a,n):\r\n",
    "        self.a = a\r\n",
    "        self.b = n\r\n",
    "    \r\n",
    "    def __iter__(self):\r\n",
    "        return self  \r\n",
    "    \r\n",
    "    def __next__(self):\r\n",
    "        if self.a <= self.b:#讓下面的raise StopIteration可以在值為n時停止迭代\r\n",
    "            if (self.a)%2 == 0:#如果一開始填入的a是偶數最好，可以直接迭代到值為n時\r\n",
    "                v = self.a\r\n",
    "            else:\r\n",
    "                self.a += 1#不是偶數的話就直接+1變成偶數\r\n",
    "                v = self.a\r\n",
    "            self.a += 2#然後一直+2下去直到值為b(取出偶數)\r\n",
    "            return v\r\n",
    "        else: \r\n",
    "            raise StopIteration\r\n",
    "            \r\n",
    "evnes = even_number(1, 100)\r\n",
    "print(evnes)\r\n",
    "print(list(evnes)) # [2, 4, 6, 8, 10, 12, 14, 16, 18, 20, 22, 24, 26, 28, 30, 32, 34, 36, 38, 40, 42, 44, 46, 48, 50, 52, 54, 56, 58, 60, 62, 64, 66, 68, 70, 72, 74, 76, 78, 80, 82, 84, 86, 88, 90, 92, 94, 96, 98, 100]"
   ],
   "outputs": [
    {
     "output_type": "stream",
     "name": "stdout",
     "text": [
      "<__main__.even_number object at 0x000001066A228128>\n",
      "[2, 4, 6, 8, 10, 12, 14, 16, 18, 20, 22, 24, 26, 28, 30, 32, 34, 36, 38, 40, 42, 44, 46, 48, 50, 52, 54, 56, 58, 60, 62, 64, 66, 68, 70, 72, 74, 76, 78, 80, 82, 84, 86, 88, 90, 92, 94, 96, 98, 100]\n"
     ]
    }
   ],
   "metadata": {}
  }
 ],
 "metadata": {
  "colab": {
   "name": "Day_023_HW.ipynb",
   "provenance": []
  },
  "kernelspec": {
   "name": "python3",
   "display_name": "Python 3.6.4 64-bit ('base': conda)"
  },
  "language_info": {
   "codemirror_mode": {
    "name": "ipython",
    "version": 3
   },
   "file_extension": ".py",
   "mimetype": "text/x-python",
   "name": "python",
   "nbconvert_exporter": "python",
   "pygments_lexer": "ipython3",
   "version": "3.6.4"
  },
  "interpreter": {
   "hash": "1173d45ba291bb8103290b86d84dc8188b01e1e003afe111fd536f43d6741147"
  }
 },
 "nbformat": 4,
 "nbformat_minor": 1
}