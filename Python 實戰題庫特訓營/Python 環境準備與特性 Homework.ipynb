{
 "cells": [
  {
   "cell_type": "markdown",
   "source": [
    "# [作業目標]\n",
    "\n",
    "- 請在 Jupyter 程式碼當中執行以下程式碼，並回答以下問題：\n",
    "\n",
    "```\n",
    "print('Hello World')\n",
    "import os\n",
    "os.getcwd()\n",
    "```\n",
    "\n",
    "1. 請問下列三行程式碼，分別做了什麼事情？\n",
    "2. 請問有使用 print() 的 沒有使用 print()  的印出有什麼差異？\n"
   ],
   "metadata": {
    "colab_type": "text",
    "id": "P6xk2_jLsvFF"
   }
  },
  {
   "cell_type": "markdown",
   "source": [
    "# 作業 "
   ],
   "metadata": {
    "colab_type": "text",
    "id": "uXGll28asvFS"
   }
  },
  {
   "cell_type": "code",
   "execution_count": 1,
   "source": [
    "print('Hello World')\r\n",
    "import os\r\n",
    "os.getcwd()"
   ],
   "outputs": [
    {
     "output_type": "stream",
     "name": "stdout",
     "text": [
      "Hello World\n"
     ]
    },
    {
     "output_type": "execute_result",
     "data": {
      "text/plain": [
       "'c:\\\\Users\\\\Brandon\\\\Downloads'"
      ]
     },
     "metadata": {},
     "execution_count": 1
    }
   ],
   "metadata": {
    "colab": {},
    "colab_type": "code",
    "id": "5QrYoyNWsvFS"
   }
  },
  {
   "cell_type": "markdown",
   "source": [
    "### 1. 請問這三行程式碼，分別做了什麼事情？"
   ],
   "metadata": {}
  },
  {
   "cell_type": "code",
   "execution_count": 2,
   "source": [
    "#print('Hello World') :印出字串'Hello World'\r\n",
    "#import os:導入os 模組\r\n",
    "#os.getcwd():印出目前檔案所在路徑"
   ],
   "outputs": [],
   "metadata": {
    "colab": {},
    "colab_type": "code",
    "id": "e1gVI0tvsvFY"
   }
  },
  {
   "cell_type": "markdown",
   "source": [
    "### 2. 請問有使用 print() 的 沒有使用 print() 的印出有什麼差異？"
   ],
   "metadata": {}
  },
  {
   "cell_type": "code",
   "execution_count": 3,
   "source": [
    "#print()能將括號中的物件印出給使用者看\r\n",
    "#不使用print()的話無法印出，但編碼者可在檔案未執行情況下讀原始碼"
   ],
   "outputs": [
    {
     "output_type": "execute_result",
     "data": {
      "text/plain": [
       "'\\nYour Answer\\n'"
      ]
     },
     "metadata": {},
     "execution_count": 3
    }
   ],
   "metadata": {}
  },
  {
   "cell_type": "code",
   "execution_count": null,
   "source": [],
   "outputs": [],
   "metadata": {}
  }
 ],
 "metadata": {
  "colab": {
   "name": "Day_023_HW.ipynb",
   "provenance": []
  },
  "kernelspec": {
   "name": "python3",
   "display_name": "Python 3.6.4 64-bit ('base': conda)"
  },
  "language_info": {
   "codemirror_mode": {
    "name": "ipython",
    "version": 3
   },
   "file_extension": ".py",
   "mimetype": "text/x-python",
   "name": "python",
   "nbconvert_exporter": "python",
   "pygments_lexer": "ipython3",
   "version": "3.6.4"
  },
  "interpreter": {
   "hash": "1173d45ba291bb8103290b86d84dc8188b01e1e003afe111fd536f43d6741147"
  }
 },
 "nbformat": 4,
 "nbformat_minor": 1
}