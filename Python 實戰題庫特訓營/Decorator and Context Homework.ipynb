{
 "cells": [
  {
   "cell_type": "markdown",
   "source": [
    "# [作業目標]\n",
    "\n",
    "\n",
    "1. [簡答題] 請列舉幾個可以用 decorator 或 context 使用的情境？\n",
    "\n",
    "2. 如何使用 decorator 讓程式執行 foo(...) 前執行 a(...)、b(...) 兩段程式：\n",
    "\n",
    "```\n",
    "def a(f):\n",
    "    print('a() is called')\n",
    "    return\n",
    "\n",
    "def b(f):\n",
    "    print('b() is called')\n",
    "    return\n",
    "\n",
    "def f():\n",
    "    return \"hello world\"\n",
    "```\n",
    "\n"
   ],
   "metadata": {
    "colab_type": "text",
    "id": "P6xk2_jLsvFF"
   }
  },
  {
   "cell_type": "markdown",
   "source": [
    "# 作業 "
   ],
   "metadata": {
    "colab_type": "text",
    "id": "uXGll28asvFS"
   }
  },
  {
   "cell_type": "markdown",
   "source": [
    "### 1. [簡答題] 請列舉幾個可以用 decorator 或 context 使用的情境？\r\n"
   ],
   "metadata": {}
  },
  {
   "cell_type": "code",
   "execution_count": 9,
   "source": [
    "#有多個函數都需要執行相同的語法時可以寫成decorator進行簡化,ex:效能測試\r\n",
    "#範例答案:\r\n",
    "# decorator\r\n",
    "# 身分驗證\r\n",
    "# 格式加工\r\n",
    "# context\r\n",
    "# 檔案存取\r\n",
    "# 資料庫存取"
   ],
   "outputs": [
    {
     "output_type": "execute_result",
     "data": {
      "text/plain": [
       "'\\nYour Code\\n'"
      ]
     },
     "metadata": {},
     "execution_count": 9
    }
   ],
   "metadata": {}
  },
  {
   "cell_type": "markdown",
   "source": [
    "### 2. 如何使用 decorator 讓程式執行 foo(...) 前執行 a(...)、b(...) 兩段程式：\r\n",
    "\r\n",
    "```\r\n",
    "def a(f):\r\n",
    "    print('a() is called')\r\n",
    "    return\r\n",
    "\r\n",
    "def b(f):\r\n",
    "    print('b() is called')\r\n",
    "    return\r\n",
    "\r\n",
    "def f():\r\n",
    "    return \"hello world\"\r\n",
    "```"
   ],
   "metadata": {}
  },
  {
   "cell_type": "code",
   "execution_count": 10,
   "source": [
    "def a(f):\r\n",
    "    print('a() is called')\r\n",
    "    return\r\n",
    "\r\n",
    "def b(f):\r\n",
    "    print('b() is called')\r\n",
    "    return\r\n",
    "\r\n",
    "def decorat(func):\r\n",
    "    def wrap():\r\n",
    "        a(f)\r\n",
    "        b(f)\r\n",
    "        func()\r\n",
    "        return  func()\r\n",
    "    return wrap\r\n",
    "\r\n",
    "@decorat\r\n",
    "def f():\r\n",
    "    return \"hello world\"\r\n",
    "\r\n",
    "f()\r\n"
   ],
   "outputs": [
    {
     "output_type": "stream",
     "name": "stdout",
     "text": [
      "a() is called\n",
      "b() is called\n"
     ]
    },
    {
     "output_type": "execute_result",
     "data": {
      "text/plain": [
       "'hello world'"
      ]
     },
     "metadata": {},
     "execution_count": 10
    }
   ],
   "metadata": {}
  },
  {
   "cell_type": "code",
   "execution_count": null,
   "source": [],
   "outputs": [],
   "metadata": {}
  }
 ],
 "metadata": {
  "colab": {
   "name": "Day_023_HW.ipynb",
   "provenance": []
  },
  "kernelspec": {
   "name": "python3",
   "display_name": "Python 3.6.4 64-bit ('base': conda)"
  },
  "language_info": {
   "codemirror_mode": {
    "name": "ipython",
    "version": 3
   },
   "file_extension": ".py",
   "mimetype": "text/x-python",
   "name": "python",
   "nbconvert_exporter": "python",
   "pygments_lexer": "ipython3",
   "version": "3.6.4"
  },
  "interpreter": {
   "hash": "1173d45ba291bb8103290b86d84dc8188b01e1e003afe111fd536f43d6741147"
  }
 },
 "nbformat": 4,
 "nbformat_minor": 1
}