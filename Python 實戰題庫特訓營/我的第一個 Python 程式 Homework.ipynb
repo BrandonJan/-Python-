{
 "cells": [
  {
   "cell_type": "markdown",
   "source": [
    "# [作業目標]\n",
    "\n",
    "1. 請設定三個變數值「name」、「birth」、「job」，分別指定成「名字」、「出生年份」及「工作」，並且印出成下列輸出：\n",
    "\n",
    "```\n",
    "Hello World, 我的名字是 OOO\n",
    "我今年 OO 歲，目前的工作是 OOO\n",
    "學習 Python 的目標是： OOO。\n",
    "```\n",
    "\n",
    "2. 攝氏溫標是目前世界上最常用的溫標，而在美國則是使用華氏溫標為主，假設現在是攝氏 C 度，則華氏 F 度可以表示成 F=C*9/5+32。現在給你攝氏的溫度，請問你它是華氏幾度？\n",
    "\n",
    "    * 使用者需要定義 C 跟 F 兩個變數，分別代表華氏溫度和攝氏溫度\n",
    "    * 變數 C 由使用者輸入，變數 F 由程式計算產生\n",
    "\n",
    "\n",
    "\n"
   ],
   "metadata": {
    "colab_type": "text",
    "id": "P6xk2_jLsvFF"
   }
  },
  {
   "cell_type": "markdown",
   "source": [
    "# 作業 "
   ],
   "metadata": {
    "colab_type": "text",
    "id": "uXGll28asvFS"
   }
  },
  {
   "cell_type": "markdown",
   "source": [
    "### 1. 請設定三個變數值「name」、「birth」、「job」，分別指定成「名字」、「出生年份」及「工作」，並且印出成下列輸出：\r\n",
    "\r\n",
    "```\r\n",
    "Hello World, 我的名字是 OOO\r\n",
    "我今年 OO 歲，目前的工作是 OOO\r\n",
    "學習 Python 的目標是： OOO。\r\n",
    "```"
   ],
   "metadata": {}
  },
  {
   "cell_type": "code",
   "execution_count": 17,
   "source": [
    "name = 'Brandon'\r\n",
    "birth = 1999\r\n",
    "age = 2021-birth\r\n",
    "job = 'college student'\r\n",
    "print('Hello World, 我的名字是',name)\r\n",
    "print(f'我今年{age}歲，目前的工作是{job}')\r\n",
    "print('學習 Python 的目標是：{}'.format('增進自我'))\r\n"
   ],
   "outputs": [
    {
     "output_type": "stream",
     "name": "stdout",
     "text": [
      "Hello World, 我的名字是 Brandon\n",
      "我今年22歲，目前的工作是college student\n",
      "學習 Python 的目標是：增進自我\n"
     ]
    }
   ],
   "metadata": {
    "colab": {},
    "colab_type": "code",
    "id": "5QrYoyNWsvFS"
   }
  },
  {
   "cell_type": "markdown",
   "source": [
    "### 2. 攝氏溫標是目前世界上最常用的溫標，而在美國則是使用華氏溫標為主，假設現在是攝氏 C 度，則華氏 F 度可以表示成 F=C*9/5+32。現在給你攝氏的溫度，請問你它是華氏幾度？\r\n",
    "\r\n",
    "* 使用者需要定義 C 跟 F 兩個變數，分別代表華氏溫度和攝氏溫度\r\n",
    "* 變數 C 由使用者輸入，變數 F 由程式計算產生\r\n"
   ],
   "metadata": {}
  },
  {
   "cell_type": "code",
   "execution_count": 20,
   "source": [
    "C = int(input('請輸入攝氏溫度'))\r\n",
    "F = C*9/5+32\r\n",
    "print('華氏溫度為:',F)"
   ],
   "outputs": [
    {
     "output_type": "stream",
     "name": "stdout",
     "text": [
      "華氏溫度為: 78.8\n"
     ]
    }
   ],
   "metadata": {
    "colab": {},
    "colab_type": "code",
    "id": "e1gVI0tvsvFY"
   }
  },
  {
   "cell_type": "code",
   "execution_count": null,
   "source": [],
   "outputs": [],
   "metadata": {}
  }
 ],
 "metadata": {
  "colab": {
   "name": "Day_023_HW.ipynb",
   "provenance": []
  },
  "kernelspec": {
   "name": "python3",
   "display_name": "Python 3.6.4 64-bit ('base': conda)"
  },
  "language_info": {
   "codemirror_mode": {
    "name": "ipython",
    "version": 3
   },
   "file_extension": ".py",
   "mimetype": "text/x-python",
   "name": "python",
   "nbconvert_exporter": "python",
   "pygments_lexer": "ipython3",
   "version": "3.6.4"
  },
  "interpreter": {
   "hash": "1173d45ba291bb8103290b86d84dc8188b01e1e003afe111fd536f43d6741147"
  }
 },
 "nbformat": 4,
 "nbformat_minor": 1
}