{
 "cells": [
  {
   "cell_type": "markdown",
   "source": [
    "# [作業目標]\n",
    "\n",
    "\n",
    "1. 請將一個字典的 Key 和 Value 對調，例如：\n",
    "\n",
    "  * 輸入：{\"name\": \"qiwsir\", \"site\": \"qiwsir.github.io\", \"lang\": \"python\"}\n",
    "  * 輸出：{\"qiwsir\": \"name\", \"qiwsir.github.io\": \"site\", \"python\": \"lang\"}\n",
    "\n",
    "\n",
    "2. 有兩個由 Dictionary 所組成的 List，請問如何依照相同 index 合併成一個 List。\n",
    "\n",
    "\n"
   ],
   "metadata": {
    "id": "P6xk2_jLsvFF"
   }
  },
  {
   "cell_type": "markdown",
   "source": [
    "# 作業 "
   ],
   "metadata": {
    "id": "uXGll28asvFS"
   }
  },
  {
   "cell_type": "markdown",
   "source": [
    "### 1. 請將一個字典的 Key 和 Value 對調，例如：\r\n",
    "\r\n",
    "* 輸入：{\"name\": \"qiwsir\", \"site\": \"qiwsir.github.io\", \"lang\": \"python\"}\r\n",
    "* 輸出：{\"qiwsir\": \"name\", \"qiwsir.github.io\": \"site\", \"python\": \"lang\"}"
   ],
   "metadata": {
    "id": "5EuFjUvwBBeO"
   },
   "attachments": {}
  },
  {
   "cell_type": "code",
   "execution_count": 9,
   "source": [
    "def switchdict(dict):\r\n",
    "    print({value:key for key,value in dict.items()})\r\n",
    "    \r\n",
    "\r\n",
    "switchdict({\"name\": \"qiwsir\", \"site\": \"qiwsir.github.io\", \"lang\": \"python\"})\r\n",
    "\r\n",
    "# a = {\"name\": \"qiwsir\", \"site\": \"qiwsir.github.io\", \"lang\": \"python\"}\r\n",
    "# new = {}\r\n",
    "# for k,v in a.items():\r\n",
    "#     new[v] = k\r\n",
    "# print(new)"
   ],
   "outputs": [
    {
     "output_type": "stream",
     "name": "stdout",
     "text": [
      "{'qiwsir': 'name', 'qiwsir.github.io': 'site', 'python': 'lang'}\n"
     ]
    }
   ],
   "metadata": {
    "id": "jsS7JEAFBBeO"
   }
  },
  {
   "cell_type": "markdown",
   "source": [
    "### 2. 有兩個由 Dictionary 所組成的 List，請問如何依照相同 index 合併成一個 List。"
   ],
   "metadata": {
    "id": "vAOXJMPWBBeP"
   }
  },
  {
   "cell_type": "code",
   "execution_count": 10,
   "source": [
    "a = [{'name': 'Mark', 'sex': 'male'}, {'name': 'Mary', 'sex': 'female'}]\r\n",
    "b = [{'age': 16}, {'age': 18}]\r\n",
    "L = []\r\n",
    "for x,y in zip(a,b):\r\n",
    "    x.update(y)\r\n",
    "    L.append(x)\r\n",
    "\r\n",
    "print(L) # [{'name': 'Mark', 'sex': 'male', 'age': 16}, {'name': 'Mary', 'sex': 'female', 'age': 18}]"
   ],
   "outputs": [
    {
     "output_type": "stream",
     "name": "stdout",
     "text": [
      "[{'name': 'Mark', 'sex': 'male', 'age': 16}, {'name': 'Mary', 'sex': 'female', 'age': 18}]\n"
     ]
    }
   ],
   "metadata": {
    "id": "wJYQZ8arBBeP"
   }
  },
  {
   "cell_type": "code",
   "execution_count": 11,
   "source": [
    "import time\r\n",
    "def do():\r\n",
    "    start = time.time()\r\n",
    "    print(\"do something\")\r\n",
    "    time.sleep(3)\r\n",
    "    print(\"執行時間\", time.time()-start)\r\n",
    "    return\r\n",
    "\r\n",
    "do()"
   ],
   "outputs": [
    {
     "output_type": "stream",
     "name": "stdout",
     "text": [
      "do something\n",
      "執行時間 3.007046937942505\n"
     ]
    }
   ],
   "metadata": {}
  }
 ],
 "metadata": {
  "colab": {
   "name": "13 Homework.ipynb",
   "provenance": []
  },
  "kernelspec": {
   "name": "python3",
   "display_name": "Python 3.6.4 64-bit ('base': conda)"
  },
  "language_info": {
   "codemirror_mode": {
    "name": "ipython",
    "version": 3
   },
   "file_extension": ".py",
   "mimetype": "text/x-python",
   "name": "python",
   "nbconvert_exporter": "python",
   "pygments_lexer": "ipython3",
   "version": "3.6.4"
  },
  "interpreter": {
   "hash": "1173d45ba291bb8103290b86d84dc8188b01e1e003afe111fd536f43d6741147"
  }
 },
 "nbformat": 4,
 "nbformat_minor": 1
}