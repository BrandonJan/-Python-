{
 "cells": [
  {
   "cell_type": "markdown",
   "source": [
    "# [作業目標]\n",
    "\n",
    "\n",
    "1. [操作題] 請在電腦中安裝使用「Python 中的除錯模組 pdb」，並且截圖上傳。\n",
    "\n",
    "\n",
    "2. 對「找出 1 ~ 100 質數的函式」進行單元測試，對下列兩個程式進行測試並且側著將錯誤的部分改成正確可以通過測試。\n",
    "\n"
   ],
   "metadata": {
    "colab_type": "text",
    "id": "P6xk2_jLsvFF"
   }
  },
  {
   "cell_type": "markdown",
   "source": [
    "# 作業 "
   ],
   "metadata": {
    "colab_type": "text",
    "id": "uXGll28asvFS"
   }
  },
  {
   "cell_type": "markdown",
   "source": [
    "### 1. [操作題] 請在電腦中安裝使用「Python 中的除錯模組 pdb」，並且截圖上傳。\n"
   ],
   "metadata": {}
  },
  {
   "cell_type": "code",
   "execution_count": null,
   "source": [
    "'''\r\n",
    "Your Answer\r\n",
    "'''"
   ],
   "outputs": [],
   "metadata": {}
  },
  {
   "cell_type": "markdown",
   "source": [
    "### 2. 對「找出 1 ~ 100 質數的函式」進行單元測試，對下列兩個程式進行測試並且側著將錯誤的部分改成正確可以通過測試。"
   ],
   "metadata": {}
  },
  {
   "cell_type": "code",
   "execution_count": 6,
   "source": [
    "def f1():\r\n",
    "    L = []\r\n",
    "    for num in range(1, 100 + 1):\r\n",
    "        if num > 1:\r\n",
    "            for i in range(2, num):\r\n",
    "                if (num % i) == 0:\r\n",
    "                    break\r\n",
    "            else:\r\n",
    "                L.append(num)\r\n",
    "    return L\r\n",
    "            \r\n",
    "def f2():\r\n",
    "    return [x for x in range(1, 101) if x not in [j for i in range(2, 11) for j in range(2*i, 101, i)]]\r\n",
    "\r\n",
    "print(f1())\r\n"
   ],
   "outputs": [
    {
     "output_type": "stream",
     "name": "stdout",
     "text": [
      "[2, 3, 5, 7, 11, 13, 17, 19, 23, 29, 31, 37, 41, 43, 47, 53, 59, 61, 67, 71, 73, 79, 83, 89, 97]\n"
     ]
    }
   ],
   "metadata": {}
  },
  {
   "cell_type": "code",
   "execution_count": 15,
   "source": [
    "def f1():\r\n",
    "    L = []\r\n",
    "    for num in range(1, 100 + 1):\r\n",
    "        if num > 1:\r\n",
    "            for i in range(2, num):\r\n",
    "                if (num % i) == 0:\r\n",
    "                    break\r\n",
    "            else:\r\n",
    "                L.append(num)\r\n",
    "    return L\r\n",
    "            \r\n",
    "def f2():\r\n",
    "    return [x for x in range(2, 101) if x not in [j for i in range(2, 11) for j in range(2*i, 101, i)]]#透過pdb得知f2()原本會因為多出一個1而導致兩者不相等\r\n",
    "    #所以將range(1,101)到range(2,101)\r\n",
    "l = [2, 3, 5, 7, 11, 13, 17, 19, 23, 29, 31, 37, 41, 43, 47, 53, 59, 61, 67, 71, 73, 79, 83, 89, 97]\r\n",
    "\r\n",
    "import pdb\r\n",
    "import unittest\r\n",
    "class TestFoo(unittest.TestCase): # extend Testcase\r\n",
    "    def test_foo(self):\r\n",
    "        self.assertEqual(l, f1()) #判別兩個值是否相同\r\n",
    "        self.assertEqual(l, f2())\r\n",
    "\r\n",
    "if __name__ == '__main__':\r\n",
    "    unittest.main(argv=[''], verbosity=2, exit=False)"
   ],
   "outputs": [
    {
     "output_type": "stream",
     "name": "stderr",
     "text": [
      "test_foo (__main__.TestFoo) ... ok\n",
      "\n",
      "----------------------------------------------------------------------\n",
      "Ran 1 test in 0.010s\n",
      "\n",
      "OK\n"
     ]
    }
   ],
   "metadata": {}
  }
 ],
 "metadata": {
  "colab": {
   "name": "Day_023_HW.ipynb",
   "provenance": []
  },
  "kernelspec": {
   "name": "python3",
   "display_name": "Python 3.6.4 64-bit ('base': conda)"
  },
  "language_info": {
   "codemirror_mode": {
    "name": "ipython",
    "version": 3
   },
   "file_extension": ".py",
   "mimetype": "text/x-python",
   "name": "python",
   "nbconvert_exporter": "python",
   "pygments_lexer": "ipython3",
   "version": "3.6.4"
  },
  "interpreter": {
   "hash": "1173d45ba291bb8103290b86d84dc8188b01e1e003afe111fd536f43d6741147"
  }
 },
 "nbformat": 4,
 "nbformat_minor": 1
}