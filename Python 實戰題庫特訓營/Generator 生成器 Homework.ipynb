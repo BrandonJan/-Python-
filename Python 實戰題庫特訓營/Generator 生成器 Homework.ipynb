{
 "cells": [
  {
   "cell_type": "markdown",
   "source": [
    "# [作業目標]\n",
    "\n",
    "\n",
    "1. 將下列程式用 generator 改寫，並且比較下列兩段程式碼的差異：\n",
    "\n",
    "```\n",
    "def foo():\n",
    "    i = 0\n",
    "    L = []\n",
    "    while i < 5:\n",
    "        L.append(i) \n",
    "        i += 1\n",
    "    return L\n",
    "\n",
    "f = foo()\n",
    "for i in f:\n",
    "    print(i) # 0, 1, 2, 3, 4\n",
    "```\n",
    "\n",
    "2. 請將下列程式碼改成 generator：\n",
    "\n",
    "```\n",
    "L = []\n",
    "for i in range(100):\n",
    "    if i % 2 == 0:\n",
    "        L.append(i)\n",
    "```\n"
   ],
   "metadata": {
    "colab_type": "text",
    "id": "P6xk2_jLsvFF"
   }
  },
  {
   "cell_type": "markdown",
   "source": [
    "# 作業 "
   ],
   "metadata": {
    "colab_type": "text",
    "id": "uXGll28asvFS"
   }
  },
  {
   "cell_type": "markdown",
   "source": [
    "### 1. 將下列程式用 generator 改寫，並且比較下列兩段程式碼的差異：\n",
    "\n",
    "```\n",
    "def foo():\n",
    "    i = 0\n",
    "    L = []\n",
    "    while i < 5:\n",
    "        L.append(i) \n",
    "        i += 1\n",
    "    return L\n",
    "\n",
    "f = foo()\n",
    "for i in f:\n",
    "    print(i) # 0, 1, 2, 3, 4\n",
    "```"
   ],
   "metadata": {}
  },
  {
   "cell_type": "code",
   "execution_count": 3,
   "source": [
    "def foo():\r\n",
    "    i=0\r\n",
    "    while i<5:\r\n",
    "        yield i\r\n",
    "        i +=1\r\n",
    "f = foo()\r\n",
    "for i in f:\r\n",
    "    print(i)"
   ],
   "outputs": [
    {
     "output_type": "stream",
     "name": "stdout",
     "text": [
      "0\n",
      "1\n",
      "2\n",
      "3\n",
      "4\n"
     ]
    }
   ],
   "metadata": {}
  },
  {
   "cell_type": "markdown",
   "source": [
    "### 2. 請將下列程式碼改成 generator：\n",
    "\n",
    "```\n",
    "L = []\n",
    "for i in range(100):\n",
    "    if i % 2 == 0:\n",
    "        L.append(i)\n",
    "```"
   ],
   "metadata": {}
  },
  {
   "cell_type": "code",
   "execution_count": 5,
   "source": [
    "L = (x for x in range(100) if x%2 == 0)\r\n",
    "for i in L:\r\n",
    "    print(i)\r\n",
    "    "
   ],
   "outputs": [
    {
     "output_type": "stream",
     "name": "stdout",
     "text": [
      "0\n",
      "2\n",
      "4\n",
      "6\n",
      "8\n",
      "10\n",
      "12\n",
      "14\n",
      "16\n",
      "18\n",
      "20\n",
      "22\n",
      "24\n",
      "26\n",
      "28\n",
      "30\n",
      "32\n",
      "34\n",
      "36\n",
      "38\n",
      "40\n",
      "42\n",
      "44\n",
      "46\n",
      "48\n",
      "50\n",
      "52\n",
      "54\n",
      "56\n",
      "58\n",
      "60\n",
      "62\n",
      "64\n",
      "66\n",
      "68\n",
      "70\n",
      "72\n",
      "74\n",
      "76\n",
      "78\n",
      "80\n",
      "82\n",
      "84\n",
      "86\n",
      "88\n",
      "90\n",
      "92\n",
      "94\n",
      "96\n",
      "98\n"
     ]
    }
   ],
   "metadata": {}
  }
 ],
 "metadata": {
  "colab": {
   "name": "Day_023_HW.ipynb",
   "provenance": []
  },
  "kernelspec": {
   "name": "python3",
   "display_name": "Python 3.6.4 64-bit ('base': conda)"
  },
  "language_info": {
   "codemirror_mode": {
    "name": "ipython",
    "version": 3
   },
   "file_extension": ".py",
   "mimetype": "text/x-python",
   "name": "python",
   "nbconvert_exporter": "python",
   "pygments_lexer": "ipython3",
   "version": "3.6.4"
  },
  "interpreter": {
   "hash": "1173d45ba291bb8103290b86d84dc8188b01e1e003afe111fd536f43d6741147"
  }
 },
 "nbformat": 4,
 "nbformat_minor": 1
}