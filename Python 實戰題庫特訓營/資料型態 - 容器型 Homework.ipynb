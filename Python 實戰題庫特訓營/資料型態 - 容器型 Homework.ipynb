{
 "cells": [
  {
   "cell_type": "markdown",
   "source": [
    "# [作業目標]\n",
    "\n",
    "1. 有一個列表，其中包括 10 個元素，例如這個列表是 [1, 2, 3, 4, 5, 6, 7, 8, 9, 0]，要求將最左邊的 1 移到最右邊，結果會變成 [2, 3, 4, 5, 6, 7, 8, 9, 0, 1].\n",
    "\n",
    "\n",
    "2. Write a Python program to concatenate following dictionaries to create a new one.\n",
    "\n"
   ],
   "metadata": {
    "colab_type": "text",
    "id": "P6xk2_jLsvFF"
   }
  },
  {
   "cell_type": "markdown",
   "source": [
    "# 作業 "
   ],
   "metadata": {
    "colab_type": "text",
    "id": "uXGll28asvFS"
   }
  },
  {
   "cell_type": "markdown",
   "source": [
    "### 1. 有一個列表，其中包括 10 個元素，例如這個列表是 [1, 2, 3, 4, 5, 6, 7, 8, 9, 0]，要求將最左邊的 1 移到最右邊，結果會變成 [2, 3, 4, 5, 6, 7, 8, 9, 0, 1].\r\n",
    "\r\n",
    "\r\n"
   ],
   "metadata": {}
  },
  {
   "cell_type": "code",
   "execution_count": 3,
   "source": [
    "# l = [1, 2, 3, 4, 5, 6, 7, 8, 9, 0]\r\n",
    "# l.insert(len(l),l[0])\r\n",
    "# l.remove(l[0])\r\n",
    "# l\r\n",
    "def changepos(array):\r\n",
    "    array.insert(len(array),array[0])\r\n",
    "    array.remove(array[0])\r\n",
    "    return array\r\n",
    "changepos([1, 2, 3, 4, 5, 6, 7, 8, 9, 0])"
   ],
   "outputs": [
    {
     "output_type": "execute_result",
     "data": {
      "text/plain": [
       "[2, 3, 4, 5, 6, 7, 8, 9, 0, 1]"
      ]
     },
     "metadata": {},
     "execution_count": 3
    }
   ],
   "metadata": {}
  },
  {
   "cell_type": "markdown",
   "source": [
    "### 2. Write a Python program to concatenate following dictionaries to create a new one.\n"
   ],
   "metadata": {}
  },
  {
   "cell_type": "code",
   "execution_count": 4,
   "source": [
    "dic1 = {1:10, 2:20}\r\n",
    "dic2 = {3:30, 4:40}\r\n",
    "dic3 = {5:50, 6:60}\r\n",
    "\r\n",
    "output = {**dic1, **dic2, **dic3}\r\n",
    "print(output)\r\n",
    "\r\n",
    "# Output: {1: 10, 2: 20, 3: 30, 4: 40, 5: 50, 6: 60}"
   ],
   "outputs": [
    {
     "output_type": "stream",
     "name": "stdout",
     "text": [
      "{1: 10, 2: 20, 3: 30, 4: 40, 5: 50, 6: 60}\n"
     ]
    }
   ],
   "metadata": {
    "colab": {},
    "colab_type": "code",
    "id": "e1gVI0tvsvFY",
    "scrolled": false
   }
  },
  {
   "cell_type": "code",
   "execution_count": null,
   "source": [],
   "outputs": [],
   "metadata": {}
  },
  {
   "cell_type": "code",
   "execution_count": null,
   "source": [],
   "outputs": [],
   "metadata": {}
  }
 ],
 "metadata": {
  "colab": {
   "name": "Day_023_HW.ipynb",
   "provenance": []
  },
  "kernelspec": {
   "name": "python3",
   "display_name": "Python 3.6.4 64-bit ('base': conda)"
  },
  "language_info": {
   "codemirror_mode": {
    "name": "ipython",
    "version": 3
   },
   "file_extension": ".py",
   "mimetype": "text/x-python",
   "name": "python",
   "nbconvert_exporter": "python",
   "pygments_lexer": "ipython3",
   "version": "3.6.4"
  },
  "interpreter": {
   "hash": "1173d45ba291bb8103290b86d84dc8188b01e1e003afe111fd536f43d6741147"
  }
 },
 "nbformat": 4,
 "nbformat_minor": 1
}