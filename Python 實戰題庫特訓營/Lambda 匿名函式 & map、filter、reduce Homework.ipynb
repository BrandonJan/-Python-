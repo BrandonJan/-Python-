{
 "cells": [
  {
   "cell_type": "markdown",
   "source": [
    "# [作業目標]\n",
    "\n",
    "\n",
    "1. 請根據給定的列表依序完成下咧操作：\n",
    "\n",
    "    * 1. 利用 map 將原始資料四捨五入\n",
    "    * 2. 利用 filter 挑選出大於 30 的元素\n",
    "    * 3. 利用 reduce 計算總和\n",
    "\n",
    "\n",
    "2. 實作一個 map function，對一個 list 中的每個元素都做相同的操作\n",
    "\n",
    "    * Sample Input 1: L = [1,2,3,4,5,6], F = add1(n)\n",
    "    * Sample Output 1: [2,3,4,5,6,7]\n",
    "    * Sample Input 2: L = [2,3,4,5,6,7], F = isPrime(n)\n",
    "    * Sample Output 2: [True,True,False,True,False,True]\n",
    "\n"
   ],
   "metadata": {
    "colab_type": "text",
    "id": "P6xk2_jLsvFF"
   }
  },
  {
   "cell_type": "markdown",
   "source": [
    "# 作業 "
   ],
   "metadata": {
    "colab_type": "text",
    "id": "uXGll28asvFS"
   }
  },
  {
   "cell_type": "markdown",
   "source": [
    "### 1. 請根據給定的列表依序完成下咧操作：\n",
    "\n",
    "* 1. 利用 map 將原始資料四捨五入\n",
    "* 2. 利用 filter 挑選出大於 30 的元素\n",
    "* 3. 利用 reduce 計算總和"
   ],
   "metadata": {}
  },
  {
   "cell_type": "code",
   "execution_count": 16,
   "source": [
    "L = [6.6, 9.58, 4.009, 56.2424, 9.01344, 44.00013]\r\n",
    "\r\n",
    "import numpy as np\r\n",
    "from functools import reduce\r\n",
    "r1 = list(map(lambda x: np.round(x), L))\r\n",
    "print(r1)\r\n",
    "r2 = list(filter(lambda x: x>30, r1))\r\n",
    "print(r2)\r\n",
    "result3 = reduce(lambda x,y: x+y, r2)\r\n",
    "print(result3)\r\n"
   ],
   "outputs": [
    {
     "output_type": "stream",
     "name": "stdout",
     "text": [
      "[7.0, 10.0, 4.0, 56.0, 9.0, 44.0]\n",
      "[56.0, 44.0]\n",
      "100.0\n"
     ]
    }
   ],
   "metadata": {}
  },
  {
   "cell_type": "markdown",
   "source": [
    "### 2. 實作一個 map function，對一個 list 中的每個元素都做相同的操作\r\n",
    "\r\n",
    "* Sample Input 1: L = [1,2,3,4,5,6], F = add1(n)\r\n",
    "* Sample Output 1:  [2,3,4,5,6,7]\r\n",
    "* Sample Input 2: L = [2,3,4,5,6,7], F = isPrime(n)\r\n",
    "* Sample Output 2: [True,True,False,True,False,True]"
   ],
   "metadata": {}
  },
  {
   "cell_type": "code",
   "execution_count": 21,
   "source": [
    "def add1(n):\r\n",
    "    return n+1\r\n",
    "\r\n",
    "def isPrime(n):\r\n",
    "    for i in range(2, int(n**0.5)+1):\r\n",
    "        if n % i == 0:\r\n",
    "            return False\r\n",
    "    return True\r\n",
    "\r\n",
    "L = [1,2,3,4,5,6]\r\n",
    "L2 = [2,3,4,5,6,7]\r\n",
    "SampleInput1 = map(add1,L)\r\n",
    "SampleInput2 = map(isPrime,L2)\r\n",
    "print('Sample Output 1:',list(SampleInput1))\r\n",
    "print('Sample Output 2:',list(SampleInput2))\r\n",
    "\r\n",
    "# def f(L, F):\r\n",
    "#     return [F(i) for i in L]\r\n",
    "    \r\n",
    "# L = [1,2,3,4,5,6]\r\n",
    "# F = add1\r\n",
    "# print(f(L, F)) # [2,3,4,5,6,7]\r\n",
    "\r\n",
    "# L = [2,3,4,5,6,7] \r\n",
    "# F = isPrime\r\n",
    "# print(f(L, F)) # [True, True, False, True, False, True]\r\n",
    "\r\n"
   ],
   "outputs": [
    {
     "output_type": "stream",
     "name": "stdout",
     "text": [
      "Sample Output 1: [2, 3, 4, 5, 6, 7]\n",
      "Sample Output 2: [True, True, False, True, False, True]\n"
     ]
    }
   ],
   "metadata": {}
  },
  {
   "cell_type": "code",
   "execution_count": null,
   "source": [],
   "outputs": [],
   "metadata": {}
  }
 ],
 "metadata": {
  "colab": {
   "name": "Day_023_HW.ipynb",
   "provenance": []
  },
  "kernelspec": {
   "name": "python3",
   "display_name": "Python 3.6.4 64-bit ('base': conda)"
  },
  "language_info": {
   "codemirror_mode": {
    "name": "ipython",
    "version": 3
   },
   "file_extension": ".py",
   "mimetype": "text/x-python",
   "name": "python",
   "nbconvert_exporter": "python",
   "pygments_lexer": "ipython3",
   "version": "3.6.4"
  },
  "interpreter": {
   "hash": "1173d45ba291bb8103290b86d84dc8188b01e1e003afe111fd536f43d6741147"
  }
 },
 "nbformat": 4,
 "nbformat_minor": 1
}