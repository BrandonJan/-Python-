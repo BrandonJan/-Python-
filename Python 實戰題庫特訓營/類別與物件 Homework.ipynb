{
 "cells": [
  {
   "cell_type": "markdown",
   "source": [
    "# [作業目標]\n",
    "\n",
    "1. 請問以下程式輸出為何？\n",
    "\n",
    "```\n",
    "class MyClass: \n",
    "    count = [0] # shared\n",
    "    def __init__(self, name):\n",
    "        self.name = name # uniuqe\n",
    "        self.count[0] += 1\n",
    "    def f(self): \n",
    "        return 'hello %s' % (self.name)\n",
    "x = MyClass('X')\n",
    "print(x.f(), x.count)\n",
    "y = MyClass('Y')\n",
    "print(y.f(), y.count\n",
    "```\n",
    "\n",
    "2. 建立一個 Student 的類別，要包含姓名、性別、年齡，和修改資料的成員函式。利用上述建立的類別，宣告幾個 Student 物件，並放到一個列表存放。\n",
    "\n",
    "\n",
    "\n",
    "\n"
   ],
   "metadata": {
    "colab_type": "text",
    "id": "P6xk2_jLsvFF"
   }
  },
  {
   "cell_type": "markdown",
   "source": [
    "# 作業 "
   ],
   "metadata": {
    "colab_type": "text",
    "id": "uXGll28asvFS"
   }
  },
  {
   "cell_type": "markdown",
   "source": [
    "### 1. 請問以下程式輸出為何？\r\n",
    "\r\n",
    "```\r\n",
    "class MyClass: \r\n",
    "    count = [0] # shared\r\n",
    "    def __init__(self, name):\r\n",
    "        self.name = name # uniuqe\r\n",
    "        self.count[0] += 1\r\n",
    "    def f(self): \r\n",
    "        return 'hello %s' % (self.name)\r\n",
    "x = MyClass('X')\r\n",
    "print(x.f(), x.count)\r\n",
    "y = MyClass('Y')\r\n",
    "print(y.f(), y.count\r\n",
    "```\r\n"
   ],
   "metadata": {}
  },
  {
   "cell_type": "code",
   "execution_count": 2,
   "source": [
    "class MyClass: \r\n",
    "    count = [0] # shared\r\n",
    "    def __init__(self, name):\r\n",
    "        self.name = name # uniuqe\r\n",
    "        self.count[0] += 1\r\n",
    "    def f(self): \r\n",
    "        return 'hello %s' % (self.name)\r\n",
    "x = MyClass('X')\r\n",
    "print(x.f(), x.count)\r\n",
    "y = MyClass('Y')\r\n",
    "print(y.f(), y.count)"
   ],
   "outputs": [
    {
     "output_type": "stream",
     "name": "stdout",
     "text": [
      "hello X [1]\n",
      "hello Y [2]\n"
     ]
    }
   ],
   "metadata": {
    "colab": {},
    "colab_type": "code",
    "id": "5QrYoyNWsvFS"
   }
  },
  {
   "cell_type": "markdown",
   "source": [
    "### 2.  建立一個 Student 的類別，要包含姓名、性別、年齡，和修改資料的成員函式。利用上述建立的類別，宣告幾個 Student 物件，並放到一個列表存放。\n",
    "\n",
    "\n"
   ],
   "metadata": {}
  },
  {
   "cell_type": "code",
   "execution_count": 7,
   "source": [
    "class Student:\r\n",
    "    student_list = []\r\n",
    "    def __init__(self, name, sex, age):\r\n",
    "        self.name = name # uniuqe\r\n",
    "        self.sex = sex\r\n",
    "        self.age = age\r\n",
    "        student_list = [self.name, self.sex, self.age]\r\n",
    "       \r\n",
    "    def Updatedata(self, name, sex, age):\r\n",
    "        self.name = name # uniuqe\r\n",
    "        self.sex = sex\r\n",
    "        self.age = age\r\n",
    "        return self.name, self.sex, self.age \r\n",
    "\r\n",
    "Tom = Student('Tom','male',23)\r\n",
    "Marry = Student('Marry','female',35)\r\n",
    "for i in student_list:\r\n",
    "    print(i.name, i.sex, i.age)\r\n"
   ],
   "outputs": [
    {
     "output_type": "stream",
     "name": "stdout",
     "text": [
      "Tom male 33\n",
      "Marry female 35\n"
     ]
    }
   ],
   "metadata": {
    "colab": {},
    "colab_type": "code",
    "id": "e1gVI0tvsvFY",
    "scrolled": false
   }
  }
 ],
 "metadata": {
  "colab": {
   "name": "Day_023_HW.ipynb",
   "provenance": []
  },
  "kernelspec": {
   "name": "python3",
   "display_name": "Python 3.6.4 64-bit ('base': conda)"
  },
  "language_info": {
   "codemirror_mode": {
    "name": "ipython",
    "version": 3
   },
   "file_extension": ".py",
   "mimetype": "text/x-python",
   "name": "python",
   "nbconvert_exporter": "python",
   "pygments_lexer": "ipython3",
   "version": "3.6.4"
  },
  "interpreter": {
   "hash": "1173d45ba291bb8103290b86d84dc8188b01e1e003afe111fd536f43d6741147"
  }
 },
 "nbformat": 4,
 "nbformat_minor": 1
}