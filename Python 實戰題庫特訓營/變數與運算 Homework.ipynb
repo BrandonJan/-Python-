{
 "cells": [
  {
   "cell_type": "markdown",
   "source": [
    "# [作業目標]\n",
    "\n",
    "1. 將以下變數設置為相應的數值：\n",
    "\n",
    "    * my_int to the value 7\n",
    "    * my_float to the value 1.23\n",
    "    * my_bool to the value True\n",
    "    * my_Int to the value 3\n",
    "\n",
    "\n",
    "2. 請利用定義的變數運行以下操作，並解釋結果為何\n",
    "\n",
    "```\n",
    "print(my_int == my_Int)\n",
    "print(my_int != my_Int)\n",
    "print(type(my_int))\n",
    "print(type(my_float))\n",
    "print(type(my_bool)) \n",
    "```\n",
    "\n",
    "\n"
   ],
   "metadata": {
    "colab_type": "text",
    "id": "P6xk2_jLsvFF"
   }
  },
  {
   "cell_type": "markdown",
   "source": [
    "# 作業 "
   ],
   "metadata": {
    "colab_type": "text",
    "id": "uXGll28asvFS"
   }
  },
  {
   "cell_type": "markdown",
   "source": [
    "### 1. 將以下變數設置為相應的數值：\r\n",
    "\r\n",
    "* my_int to the value 7\r\n",
    "* my_float to the value 1.23\r\n",
    "* my_bool to the value True\r\n",
    "* my_Int to the value 3\r\n"
   ],
   "metadata": {}
  },
  {
   "cell_type": "code",
   "execution_count": null,
   "source": [
    "my_int = 7\r\n",
    "my_float = 1.23\r\n",
    "my_bool = True\r\n",
    "my_Int = 3"
   ],
   "outputs": [],
   "metadata": {
    "colab": {},
    "colab_type": "code",
    "id": "5QrYoyNWsvFS"
   }
  },
  {
   "cell_type": "markdown",
   "source": [
    "### 2. 請利用定義的變數運行以下操作，並解釋結果為何\r\n",
    "\r\n",
    "```\r\n",
    "print(my_int == my_Int)\r\n",
    "print(my_int != my_Int)\r\n",
    "print(type(my_int))\r\n",
    "print(type(my_float))\r\n",
    "print(type(my_bool)) \r\n",
    "```\r\n"
   ],
   "metadata": {}
  },
  {
   "cell_type": "code",
   "execution_count": 1,
   "source": [
    "my_int = 7\r\n",
    "my_float = 1.23\r\n",
    "my_bool = True\r\n",
    "my_Int = 3\r\n",
    "print(my_int == my_Int)#檢查my_int的值是否等同於my_Int，會印出布林值，因為不相同所以是False\r\n",
    "print(my_int != my_Int)#檢查my_int的值是否不等同於my_Int，會印出布林值，因為不相同所以是True\r\n",
    "print(type(my_int))#檢查my_int的型態為何\r\n",
    "print(type(my_float))#檢查my_float的型態為何\r\n",
    "print(type(my_bool)) #檢查my_bool的型態為何"
   ],
   "outputs": [
    {
     "output_type": "stream",
     "name": "stdout",
     "text": [
      "False\n",
      "True\n",
      "<class 'int'>\n",
      "<class 'float'>\n",
      "<class 'bool'>\n"
     ]
    }
   ],
   "metadata": {
    "colab": {},
    "colab_type": "code",
    "id": "e1gVI0tvsvFY",
    "scrolled": true
   }
  }
 ],
 "metadata": {
  "colab": {
   "name": "Day_023_HW.ipynb",
   "provenance": []
  },
  "kernelspec": {
   "name": "python3",
   "display_name": "Python 3.6.4 64-bit ('base': conda)"
  },
  "language_info": {
   "codemirror_mode": {
    "name": "ipython",
    "version": 3
   },
   "file_extension": ".py",
   "mimetype": "text/x-python",
   "name": "python",
   "nbconvert_exporter": "python",
   "pygments_lexer": "ipython3",
   "version": "3.6.4"
  },
  "interpreter": {
   "hash": "1173d45ba291bb8103290b86d84dc8188b01e1e003afe111fd536f43d6741147"
  }
 },
 "nbformat": 4,
 "nbformat_minor": 1
}