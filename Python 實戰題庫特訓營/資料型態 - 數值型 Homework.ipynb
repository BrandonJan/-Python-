{
 "cells": [
  {
   "cell_type": "markdown",
   "source": [
    "# [作業目標]\n",
    "\n",
    "1. 請問下列運算的結果為何？\n",
    "\n",
    "```\n",
    "1 + 3*2 # \n",
    "1 + 3**2 #\n",
    "(1 + 3)*2 # \n",
    "1 + 3 / 2 *2 # \n",
    "1 + 3 // 2 *2 # \n",
    "1 + 3 / 2 **2 # \n",
    "1 + 3 // 2 **2 #  \n",
    "```\n",
    "\n",
    "\n",
    "2. 下列是一個計算開根號的程式，請將缺空的地方補齊，讓程式運作正確。\n",
    "\n",
    "```\n",
    "num = 16\n",
    "'''\n",
    "Your Code\n",
    "'''\n",
    "print('The square root of %0.3f is %0.3f' % (num ,num_sqrt))\n",
    "```\n"
   ],
   "metadata": {
    "colab_type": "text",
    "id": "P6xk2_jLsvFF"
   }
  },
  {
   "cell_type": "markdown",
   "source": [
    "# 作業 "
   ],
   "metadata": {
    "colab_type": "text",
    "id": "uXGll28asvFS"
   }
  },
  {
   "cell_type": "markdown",
   "source": [
    "### 1. 請問下列運算的結果為何？\r\n",
    "\r\n",
    "```\r\n",
    "1 + 3*2 # \r\n",
    "1 + 3**2 #\r\n",
    "(1 + 3)*2 # \r\n",
    "1 + 3 / 2 *2 # \r\n",
    "1 + 3 // 2 *2 # \r\n",
    "1 + 3 / 2 **2 # \r\n",
    "1 + 3 // 2 **2 #  \r\n",
    "```\r\n",
    "\r\n",
    "\r\n"
   ],
   "metadata": {}
  },
  {
   "cell_type": "code",
   "execution_count": 1,
   "source": [
    "print( 1+ 3*2,\r\n",
    "1 + 3**2,\r\n",
    "(1 + 3)*2,\r\n",
    "1 + 3 / 2 *2,\r\n",
    "1 + 3 // 2 *2,\r\n",
    "1 + 3 / 2 **2,\r\n",
    "1 + 3 // 2 **2)#**優先運算"
   ],
   "outputs": [
    {
     "output_type": "stream",
     "name": "stdout",
     "text": [
      "7 10 8 4.0 3 1.75 1\n"
     ]
    }
   ],
   "metadata": {
    "colab": {},
    "colab_type": "code",
    "id": "5QrYoyNWsvFS"
   }
  },
  {
   "cell_type": "markdown",
   "source": [
    "### 2. 下列是一個計算開根號的程式，請將缺空的地方補齊，讓程式運作正確。\n"
   ],
   "metadata": {}
  },
  {
   "cell_type": "code",
   "execution_count": 6,
   "source": [
    "import numpy as np\r\n",
    "num = 16\r\n",
    "num_sqrt = np.sqrt(num)\r\n",
    "\r\n",
    "print('The square root of %0.3f is %0.3f' % (num, num_sqrt))\r\n"
   ],
   "outputs": [
    {
     "output_type": "stream",
     "name": "stdout",
     "text": [
      "The square root of 16.000 is 4.000\n"
     ]
    }
   ],
   "metadata": {
    "colab": {},
    "colab_type": "code",
    "id": "e1gVI0tvsvFY",
    "scrolled": false
   }
  }
 ],
 "metadata": {
  "colab": {
   "name": "Day_023_HW.ipynb",
   "provenance": []
  },
  "kernelspec": {
   "name": "python3",
   "display_name": "Python 3.6.4 64-bit ('base': conda)"
  },
  "language_info": {
   "codemirror_mode": {
    "name": "ipython",
    "version": 3
   },
   "file_extension": ".py",
   "mimetype": "text/x-python",
   "name": "python",
   "nbconvert_exporter": "python",
   "pygments_lexer": "ipython3",
   "version": "3.6.4"
  },
  "interpreter": {
   "hash": "1173d45ba291bb8103290b86d84dc8188b01e1e003afe111fd536f43d6741147"
  }
 },
 "nbformat": 4,
 "nbformat_minor": 1
}