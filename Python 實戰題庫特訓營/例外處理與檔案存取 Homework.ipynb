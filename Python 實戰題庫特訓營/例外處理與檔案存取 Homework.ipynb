{
 "cells": [
  {
   "cell_type": "markdown",
   "source": [
    "# [作業目標]\n",
    "\n",
    "1. 請判斷下列的這幾種錯誤訊息發生的原因為何？\n",
    "\n",
    "```\n",
    "10 * (1/0)\n",
    "# Traceback (most recent call last):\n",
    "#   File \"<stdin>\", line 1, in <module>ZeroDivisionError: division by zero\n",
    "\n",
    "4 + spam*3\n",
    "# Traceback (most recent call last):\n",
    "#   File \"<stdin>\", line 1, in <module>NameError: name 'spam' is not defined\n",
    "\n",
    "'2' + 2\n",
    "# Traceback (most recent call last):\n",
    "#   File \"<stdin>\", line 1, in <module>TypeError: Can't convert 'int' object to str implicitly\n",
    "```\n",
    "\n",
    "\n",
    "2. 完成一個程式，需滿足下列需求：\n",
    "    \n",
    "    * 下載指定檔案到 Data 資料夾，存成檔名 Homework.txt (檔案網址：https://www.w3.org/TR/PNG/iso_8859-1.txt )\n",
    "    * 將 Homework.txt 檔案讀取到程式內並且計算字數\n",
    "\n",
    "\n",
    "\n",
    "\n",
    "\n"
   ],
   "metadata": {
    "colab_type": "text",
    "id": "P6xk2_jLsvFF"
   }
  },
  {
   "cell_type": "markdown",
   "source": [
    "# 作業 "
   ],
   "metadata": {
    "colab_type": "text",
    "id": "uXGll28asvFS"
   }
  },
  {
   "cell_type": "markdown",
   "source": [
    "### 1. 請判斷下列的這幾種錯誤訊息發生的原因為何？\n",
    "\n",
    "```\n",
    "10 * (1/0)\n",
    "# Traceback (most recent call last):\n",
    "#   File \"<stdin>\", line 1, in <module>ZeroDivisionError: division by zero\n",
    "\n",
    "4 + spam*3\n",
    "# Traceback (most recent call last):\n",
    "#   File \"<stdin>\", line 1, in <module>NameError: name 'spam' is not defined\n",
    "\n",
    "'2' + 2\n",
    "# Traceback (most recent call last):\n",
    "#   File \"<stdin>\", line 1, in <module>TypeError: Can't convert 'int' object to str implicitly\n",
    "```"
   ],
   "metadata": {}
  },
  {
   "cell_type": "code",
   "execution_count": 3,
   "source": [
    "print('1. 0不能作為除數\\n2.變數spam沒有定義\\n3.字符串和整數不能相加')"
   ],
   "outputs": [
    {
     "output_type": "stream",
     "name": "stdout",
     "text": [
      "1. 0不能作為除數\n",
      "2.變數spam沒有定義\n",
      "3.字符串和整數不能相加\n"
     ]
    }
   ],
   "metadata": {
    "colab": {},
    "colab_type": "code",
    "id": "5QrYoyNWsvFS"
   }
  },
  {
   "cell_type": "markdown",
   "source": [
    "### 2. 完成一個程式，需滿足下列需求：\n",
    "    \n",
    "* 下載指定檔案到 Data 資料夾，存成檔名 Homework.txt (檔案網址：https://www.w3.org/TR/PNG/iso_8859-1.txt )\n",
    "* 將 Homework.txt 檔案讀取到程式內並且計算字數\n"
   ],
   "metadata": {}
  },
  {
   "cell_type": "code",
   "execution_count": 5,
   "source": [
    "# 根據需求引入正確的 Library\r\n",
    "\r\n",
    "from urllib.request import urlretrieve\r\n",
    "import os\r\n",
    "\r\n",
    "# 下載檔案到 Data 資料夾，存成檔名 Homework.txt\r\n",
    "\r\n",
    "try:\r\n",
    "    os.makedirs( './Data', exist_ok=True )\r\n",
    "    urlretrieve (\"https://www.w3.org/TR/PNG/iso_8859-1.txt\", \"./Data/Homework.txt\")\r\n",
    "except:\r\n",
    "    print('發生錯誤！')\r\n",
    "\r\n",
    "# 將 Homework.txt 檔案讀取到程式內並且計算字數\r\n",
    "  \r\n",
    "    \r\n",
    "with open('Data/Homework.txt','r') as h:\r\n",
    "    num = 0\r\n",
    "    for line in h.readlines():\r\n",
    "        num +=len(line)\r\n",
    "print(num)\r\n",
    "\r\n"
   ],
   "outputs": [
    {
     "output_type": "stream",
     "name": "stdout",
     "text": [
      "6121\n"
     ]
    }
   ],
   "metadata": {
    "colab": {},
    "colab_type": "code",
    "id": "e1gVI0tvsvFY",
    "scrolled": false
   }
  }
 ],
 "metadata": {
  "colab": {
   "name": "Day_023_HW.ipynb",
   "provenance": []
  },
  "kernelspec": {
   "name": "python3",
   "display_name": "Python 3.6.4 64-bit ('base': conda)"
  },
  "language_info": {
   "codemirror_mode": {
    "name": "ipython",
    "version": 3
   },
   "file_extension": ".py",
   "mimetype": "text/x-python",
   "name": "python",
   "nbconvert_exporter": "python",
   "pygments_lexer": "ipython3",
   "version": "3.6.4"
  },
  "interpreter": {
   "hash": "1173d45ba291bb8103290b86d84dc8188b01e1e003afe111fd536f43d6741147"
  }
 },
 "nbformat": 4,
 "nbformat_minor": 1
}